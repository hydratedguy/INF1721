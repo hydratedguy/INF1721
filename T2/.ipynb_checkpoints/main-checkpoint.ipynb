{
 "cells": [
  {
   "cell_type": "code",
   "execution_count": 1,
   "metadata": {},
   "outputs": [],
   "source": [
    "# import hashlib"
   ]
  },
  {
   "cell_type": "code",
   "execution_count": 2,
   "metadata": {},
   "outputs": [],
   "source": [
    "# Create a graph structure from scratch\n",
    "class Graph:\n",
    "    def __init__(self):\n",
    "        self.nodes = {}\n",
    "        self.edges = {}\n",
    "        self.node_count = 0\n",
    "        self.edge_count = 0\n",
    "\n",
    "    def add_node(self, node):\n",
    "        if node not in self.nodes:\n",
    "            self.nodes[node] = self.node_count\n",
    "            self.node_count += 1\n",
    "\n",
    "    def add_edge(self, node1, node2):\n",
    "        self.add_node(node1)\n",
    "        self.add_node(node2)\n",
    "        if node1 not in self.edges:\n",
    "            self.edges[node1] = {}\n",
    "        if node2 not in self.edges[node1]:\n",
    "            self.edge_count += 1\n",
    "\n",
    "    def get_node(self, node):\n",
    "        if node in self.nodes:\n",
    "            return self.nodes[node]\n",
    "        else:\n",
    "            return None\n",
    "\n",
    "    def get_edge(self, node1, node2):\n",
    "        if node1 in self.edges:\n",
    "            if node2 in self.edges[node1]:\n",
    "                return self.edges[node1][node2]\n",
    "        return None\n",
    "\n",
    "    def get_nodes(self):\n",
    "        return self.nodes\n",
    "\n",
    "    def get_edges(self):\n",
    "        return self.edges\n",
    "\n",
    "    def get_node_count(self):\n",
    "        return self.node_count\n",
    "\n",
    "    def get_edge_count(self):\n",
    "        return self.edge_count\n",
    "\n",
    "    def __str__(self):\n",
    "        return \"Nodes: \" + str(self.nodes) + \"\\nEdges: \" + str(self.edges)\n"
   ]
  },
  {
   "cell_type": "code",
   "execution_count": 3,
   "metadata": {},
   "outputs": [],
   "source": [
    "# g = Graph()\n",
    "# g.add_node(\"A\")\n",
    "# g.add_node(\"B\")\n",
    "# g.add_edge(\"A\", \"B\")\n",
    "# print(g)"
   ]
  },
  {
   "cell_type": "code",
   "execution_count": 4,
   "metadata": {},
   "outputs": [],
   "source": [
    "cgf_inicial = [\n",
    "    [\" \", \"1\", \"2\"],\n",
    "    [\"3\", \"4\", \"5\"],\n",
    "    [\"6\", \"7\", \"8\"]\n",
    "                    ]\n",
    "\n",
    "g = Graph()"
   ]
  },
  {
   "cell_type": "code",
   "execution_count": 5,
   "metadata": {},
   "outputs": [],
   "source": [
    "# Explore all possibilities from a given state and add to the graph\n",
    "\n",
    "def explore(graph, state):\n",
    "    # Find the blank space\n",
    "    for i in range(len(state)):\n",
    "        for j in range(len(state[i])):\n",
    "            if state[i][j] == \" \":\n",
    "                blank = (i, j)\n",
    "                break\n",
    "\n",
    "    # Move the blank space up, down, left, and right\n",
    "    # and add the new states to the graph\n",
    "    if blank[0] > 0:\n",
    "        new_state = [row[:] for row in state]\n",
    "        new_state[blank[0]][blank[1]] = new_state[blank[0] - 1][blank[1]]\n",
    "        new_state[blank[0] - 1][blank[1]] = \" \"\n",
    "        graph.add_edge(str(state), str(new_state))\n",
    "        explore(graph, new_state)\n",
    "    if blank[0] < len(state) - 1:\n",
    "        new_state = [row[:] for row in state]\n",
    "        new_state[blank[0]][blank[1]] = new_state[blank[0] + 1][blank[1]]\n",
    "        new_state[blank[0] + 1][blank[1]] = \" \"\n",
    "        graph.add_edge(str(state), str(new_state))\n",
    "        explore(graph, new_state)\n",
    "    if blank[1] > 0:\n",
    "        new_state = [row[:] for row in state]\n",
    "        new_state[blank[0]][blank[1]] = new_state[blank[0]][blank[1] - 1]\n",
    "        new_state[blank[0]][blank[1] - 1] = \" \"\n",
    "        graph.add_edge(str(state), str(new_state))\n",
    "        explore(graph, new_state)\n",
    "    if blank[1] < len(state[0]) - 1:\n",
    "        new_state = [row[:] for row in state]\n",
    "        new_state[blank[0]][blank[1]] = new_state[blank[0]][blank[1] + 1]\n",
    "        new_state[blank[0]][blank[1] + 1] = \" \"\n",
    "        graph.add_edge(str(state), str(new_state))\n",
    "        explore(graph, new_state)"
   ]
  },
  {
   "cell_type": "code",
   "execution_count": null,
   "metadata": {},
   "outputs": [],
   "source": [
    "explore(g, cgf_inicial)"
   ]
  },
  {
   "cell_type": "code",
   "execution_count": null,
   "metadata": {},
   "outputs": [],
   "source": [
    "a = [\n",
    "    [\"a\", \"b\", \"c\"],\n",
    "    [\"d\", \"e\", \" \"],\n",
    "    [\"g\", \"h\", \"f\"]\n",
    "                    ]\n",
    "b = [\n",
    "    [\"a\", \"b\", \"c\"],\n",
    "    [\"d\", \"e\", \"f\"],\n",
    "    [\"g\", \"h\", \" \"]\n",
    "                    ]"
   ]
  },
  {
   "cell_type": "code",
   "execution_count": null,
   "metadata": {},
   "outputs": [],
   "source": [
    "for i in a:\n",
    "    print(i)\n",
    "print(\"\")\n",
    "for i in b:\n",
    "    print(i)"
   ]
  },
  {
   "cell_type": "code",
   "execution_count": null,
   "metadata": {},
   "outputs": [],
   "source": []
  }
 ],
 "metadata": {
  "kernelspec": {
   "display_name": "Python 3 (ipykernel)",
   "language": "python",
   "name": "python3"
  },
  "language_info": {
   "codemirror_mode": {
    "name": "ipython",
    "version": 3
   },
   "file_extension": ".py",
   "mimetype": "text/x-python",
   "name": "python",
   "nbconvert_exporter": "python",
   "pygments_lexer": "ipython3",
   "version": "3.9.7"
  },
  "vscode": {
   "interpreter": {
    "hash": "6847c98a8f86b01c6a19c518cd2f366693b80566b266804d5ca763cbb223f52b"
   }
  }
 },
 "nbformat": 4,
 "nbformat_minor": 2
}
