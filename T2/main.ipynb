{
 "cells": [
  {
   "cell_type": "code",
   "execution_count": 1,
   "metadata": {},
   "outputs": [],
   "source": [
    "import sys\n",
    "from graph import Graph\n",
    "import copy\n",
    "import numpy as np\n",
    "import ast"
   ]
  },
  {
   "cell_type": "code",
   "execution_count": 2,
   "metadata": {},
   "outputs": [],
   "source": [
    "def get_blank_coord(cfg):\n",
    "    for i in range(3):\n",
    "        for j in range(3):\n",
    "            if cfg[i][j] == \" \":\n",
    "                return (i, j)"
   ]
  },
  {
   "cell_type": "code",
   "execution_count": 3,
   "metadata": {},
   "outputs": [],
   "source": [
    "def get_possible_cfgs(cfg):\n",
    "    cfgs = []\n",
    "    i, j = get_blank_coord(cfg)\n",
    "\n",
    "    if i == 0:\n",
    "        cfg_down = copy.deepcopy(cfg)\n",
    "        value = cfg_down[i+1][j]\n",
    "        cfg_down[i+1][j] = \" \"\n",
    "        cfg_down[i][j] = value\n",
    "        cfgs.append(cfg_down)\n",
    "\n",
    "        if j != 0:\n",
    "            cfg_right = copy.deepcopy(cfg)\n",
    "            value = cfg_right[i][j-1]\n",
    "            cfg_right[i][j-1] = \" \"\n",
    "            cfg_right[i][j] = value\n",
    "            cfgs.append(cfg_right)\n",
    "        if j != 2:\n",
    "            cfg_left = copy.deepcopy(cfg)\n",
    "            value = cfg_left[i][j+1]\n",
    "            cfg_left[i][j+1] = \" \"\n",
    "            cfg_left[i][j] = value\n",
    "            cfgs.append(cfg_left)\n",
    "    elif i == 1:\n",
    "        cfg_down = copy.deepcopy(cfg)\n",
    "        value = cfg_down[i+1][j]\n",
    "        cfg_down[i+1][j] = \" \"\n",
    "        cfg_down[i][j] = value\n",
    "        cfgs.append(cfg_down)\n",
    "\n",
    "        cfg_up = copy.deepcopy(cfg)\n",
    "        value = cfg_up[i-1][j]\n",
    "        cfg_up[i-1][j] = \" \"\n",
    "        cfg_up[i][j] = value\n",
    "        cfgs.append(cfg_up)\n",
    "\n",
    "        if j != 0:\n",
    "            cfg_right = copy.deepcopy(cfg)\n",
    "            value = cfg_right[i][j-1]\n",
    "            cfg_right[i][j-1] = \" \"\n",
    "            cfg_right[i][j] = value\n",
    "            cfgs.append(cfg_right)\n",
    "        if j != 2:\n",
    "            cfg_left = copy.deepcopy(cfg)\n",
    "            value = cfg_left[i][j+1]\n",
    "            cfg_left[i][j+1] = \" \"\n",
    "            cfg_left[i][j] = value\n",
    "            cfgs.append(cfg_left)\n",
    "\n",
    "    elif i == 2:\n",
    "        cfg_up = copy.deepcopy(cfg)\n",
    "        value = cfg_up[i-1][j]\n",
    "        cfg_up[i-1][j] = \" \"\n",
    "        cfg_up[i][j] = value\n",
    "        cfgs.append(cfg_up)\n",
    "\n",
    "        if j != 0:\n",
    "            cfg_right = copy.deepcopy(cfg)\n",
    "            value = cfg_right[i][j-1]\n",
    "            cfg_right[i][j-1] = \" \"\n",
    "            cfg_right[i][j] = value\n",
    "            cfgs.append(cfg_right)\n",
    "        if j != 2:\n",
    "            cfg_left = copy.deepcopy(cfg)\n",
    "            value = cfg_left[i][j+1]\n",
    "            cfg_left[i][j+1] = \" \"\n",
    "            cfg_left[i][j] = value\n",
    "            cfgs.append(cfg_left)\n",
    "    return cfgs\n"
   ]
  },
  {
   "cell_type": "code",
   "execution_count": 4,
   "metadata": {},
   "outputs": [],
   "source": [
    "def build_graph(graph, cfg_inicial):\n",
    "    visited = {}\n",
    "    # Adiciona estado inicial ao grafo.\n",
    "    tmp_inicial = np.array(cfg_inicial)\n",
    "    tmp_inicial = np.array2string(tmp_inicial, separator=\", \")\n",
    "\n",
    "    graph.add_node(tmp_inicial)\n",
    "\n",
    "    cfgs_to_explore = [cfg_inicial]\n",
    "\n",
    "    # Para cada movimento na lista de exploração repete os passos anteriores.\n",
    "    while len(cfgs_to_explore) > 0:\n",
    "        current_cfg = cfgs_to_explore.pop()\n",
    "        current_cfg_tmp = np.array(current_cfg)\n",
    "        current_cfg_tmp = np.array2string(current_cfg_tmp, separator=\", \")\n",
    "        cfgs = get_possible_cfgs(current_cfg)\n",
    "        visited[current_cfg_tmp] = 1\n",
    "        for possible_cfg in cfgs:\n",
    "            possible_cfg_tmp = np.array(possible_cfg)\n",
    "            possible_cfg_tmp = np.array2string(possible_cfg_tmp, separator=\", \")\n",
    "\n",
    "            if visited.get(possible_cfg_tmp, 0) == 0:\n",
    "                graph.add_edge(current_cfg_tmp, possible_cfg_tmp)\n",
    "                cfgs_to_explore.append(possible_cfg)"
   ]
  },
  {
   "cell_type": "code",
   "execution_count": 5,
   "metadata": {},
   "outputs": [],
   "source": [
    "def bfs(G, s):\n",
    "    visited = {}\n",
    "    queue = [s]\n",
    "    while queue:\n",
    "        node = queue.pop(0)\n",
    "        if visited.get(node, 0) == 0:\n",
    "            visited[node] = 1\n",
    "            queue.extend(G.edges[node])\n",
    "    return visited\n",
    "\n",
    "\n",
    "def connected_components(G):\n",
    "    components = []\n",
    "    visited = {}\n",
    "    for node in G.edges:\n",
    "        if visited.get(node, 0) == 0:\n",
    "            component = bfs(G, node)\n",
    "            components.append(component)\n",
    "            visited.update(component)\n",
    "    print(len(components))\n",
    "    return components\n",
    "\n",
    "\n",
    "# BFS adaptada para a questão 3\n",
    "def bfs_2(G, s):\n",
    "    visited = {}\n",
    "    queue = [s]\n",
    "    layer = 0\n",
    "    parents = {}\n",
    "    parents[s] = None\n",
    "    while queue:\n",
    "        layer_nodes = []\n",
    "        for node in queue:\n",
    "            if visited.get(node, 0) == 0:\n",
    "\n",
    "                visited[node] = [layer, parents[node]]\n",
    "                layer_nodes.extend(G.edges[node])\n",
    "\n",
    "                for child in G.edges[node]:\n",
    "                    if visited.get(child, 0) == 0:\n",
    "                        parents[child] = node\n",
    "        queue = layer_nodes\n",
    "        layer += 1\n",
    "    return visited\n",
    "\n",
    "\n",
    "# Função criada para verificar a corretude da questão 3\n",
    "def shortest_path(G, s, t):\n",
    "    visited = bfs_2(G, s)\n",
    "    path = []\n",
    "    node = str(t)\n",
    "    while node != None:\n",
    "        path.append(node)\n",
    "        node = visited[node][1]\n",
    "    return path\n"
   ]
  },
  {
   "cell_type": "code",
   "execution_count": 6,
   "metadata": {},
   "outputs": [],
   "source": [
    "cfg_inicial = [\n",
    "    [\"1\", \"2\", \"3\"],\n",
    "    [\"4\", \"5\", \"6\"],\n",
    "    [\"7\", \"8\", \" \"]\n",
    "                    ]\n",
    "    \n",
    "cfg_inicial2 = [\n",
    "    [\"1\", \"2\", \"3\"],\n",
    "    [\"4\", \"5\", \"6\"],\n",
    "    [\"8\", \"7\", \" \"]\n",
    "                    ]"
   ]
  },
  {
   "cell_type": "code",
   "execution_count": 7,
   "metadata": {},
   "outputs": [
    {
     "name": "stdout",
     "output_type": "stream",
     "text": [
      "Nodes: 362880\n",
      "Edges: 483840\n"
     ]
    }
   ],
   "source": [
    "# Tarefa 1: \n",
    "# Questão 1\n",
    "g = Graph()\n",
    "build_graph(g, cfg_inicial)\n",
    "build_graph(g, cfg_inicial2)\n",
    "print(g)"
   ]
  },
  {
   "cell_type": "code",
   "execution_count": 10,
   "metadata": {},
   "outputs": [
    {
     "name": "stdout",
     "output_type": "stream",
     "text": [
      "Nós conectados por uma aresta\n",
      "[['1', '2', '3'],\n",
      " ['4', '5', '6'],\n",
      " ['7', '8', ' ']]\n",
      "[['1', '2', '3'],\n",
      " ['4', '5', ' '],\n",
      " ['7', '8', '6']]\n",
      "Nós não conectados por uma aresta\n",
      "[['1', '2', '3'],\n",
      " ['4', '5', '6'],\n",
      " ['7', '8', ' ']]\n",
      "[['1', '2', '3'],\n",
      " ['4', ' ', '6'],\n",
      " ['7', '5', '8']]\n"
     ]
    }
   ],
   "source": [
    "# Questão 2\n",
    "size = len(g.edges)\n",
    "for no in g.edges:\n",
    "    if g.edges[no] != []:\n",
    "        print(\"Nós conectados por uma aresta\")\n",
    "        print(no)\n",
    "        print(g.edges[no][0])\n",
    "        break\n",
    "\n",
    "for no in g.edges:\n",
    "    for no2 in g.edges:\n",
    "        if no != no2 and no not in g.edges[no2]:\n",
    "            print(\"Nós não conectados por uma aresta\")\n",
    "            print(no)\n",
    "            print(no2)\n",
    "            break\n",
    "    break\n",
    "        "
   ]
  },
  {
   "cell_type": "code",
   "execution_count": 11,
   "metadata": {},
   "outputs": [
    {
     "name": "stdout",
     "output_type": "stream",
     "text": [
      "2\n"
     ]
    }
   ],
   "source": [
    "# Tarefa 2: Questão 2\n",
    "componentes_conexos = connected_components(g)"
   ]
  },
  {
   "cell_type": "code",
   "execution_count": 12,
   "metadata": {},
   "outputs": [],
   "source": [
    "# Tarefa 3:\n",
    "visitados = bfs_2(g, np.array2string(np.array(cfg_inicial), separator=\", \"))"
   ]
  },
  {
   "cell_type": "code",
   "execution_count": 13,
   "metadata": {},
   "outputs": [
    {
     "name": "stdout",
     "output_type": "stream",
     "text": [
      "Configurações com número máximo de movimentos no caminho mais curto:\n",
      "[['8', '6', '7'],\n",
      " ['2', '5', '4'],\n",
      " ['3', ' ', '1']] \n",
      "\n",
      "[['6', '4', '7'],\n",
      " ['8', '5', ' '],\n",
      " ['3', '2', '1']] \n",
      "\n",
      "Número máximo de movimentos para se chegar à configuração dada: 31\n"
     ]
    }
   ],
   "source": [
    "max_key = max(visitados, key=visitados.get)\n",
    "max_layer = visitados[max_key][0] # Questão 2\n",
    "print(\"Configurações com número máximo de movimentos no caminho mais curto:\")\n",
    "\n",
    "for key in visitados: # Questão 1 \n",
    "    if visitados[key][0] == max_layer:\n",
    "        print(key,'\\n')\n",
    "print(\"Número máximo de movimentos para se chegar à configuração dada:\", max_layer )\n"
   ]
  },
  {
   "cell_type": "code",
   "execution_count": 14,
   "metadata": {},
   "outputs": [],
   "source": [
    "# path = shortest_path(g, np.array2string(np.array(cfg_inicial), separator=\", \"), max_key)"
   ]
  }
 ],
 "metadata": {
  "kernelspec": {
   "display_name": "Python 3.10.2 64-bit",
   "language": "python",
   "name": "python3"
  },
  "language_info": {
   "codemirror_mode": {
    "name": "ipython",
    "version": 3
   },
   "file_extension": ".py",
   "mimetype": "text/x-python",
   "name": "python",
   "nbconvert_exporter": "python",
   "pygments_lexer": "ipython3",
   "version": "3.10.2"
  },
  "vscode": {
   "interpreter": {
    "hash": "55f77967a6d642581441b6a1bfdc73d060ee3b73416c2e9dc10cc614772a2bfc"
   }
  }
 },
 "nbformat": 4,
 "nbformat_minor": 2
}
