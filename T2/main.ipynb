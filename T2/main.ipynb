{
 "cells": [
  {
   "cell_type": "code",
   "execution_count": 1,
   "metadata": {},
   "outputs": [],
   "source": [
    "import sys\n",
    "from graph import Graph\n",
    "import copy\n",
    "import numpy as np\n",
    "import ast\n",
    "from bfs import connected_components, bfs"
   ]
  },
  {
   "cell_type": "code",
   "execution_count": 2,
   "metadata": {},
   "outputs": [],
   "source": [
    "cfg_inicial = [\n",
    "    [\"1\", \"2\", \"3\"],\n",
    "    [\"4\", \"5\", \"6\"],\n",
    "    [\"8\", \"7\", \" \"]\n",
    "                    ]\n",
    "    \n",
    "cfg_inicial2 = [\n",
    "    [\"1\", \"2\", \"3\"],\n",
    "    [\"4\", \"5\", \"6\"],\n",
    "    [\"7\", \"8\", \" \"]\n",
    "                    ]\n",
    "g = Graph()"
   ]
  },
  {
   "cell_type": "code",
   "execution_count": 3,
   "metadata": {},
   "outputs": [],
   "source": [
    "def get_blank_coord(cfg):\n",
    "    for i in range(3):\n",
    "        for j in range(3):\n",
    "            if cfg[i][j] == \" \":\n",
    "                return (i, j)"
   ]
  },
  {
   "cell_type": "code",
   "execution_count": 4,
   "metadata": {},
   "outputs": [],
   "source": [
    "def get_possible_cfgs(cfg):\n",
    "    cfgs = []\n",
    "    i, j = get_blank_coord(cfg)\n",
    "\n",
    "    if i == 0:\n",
    "        cfg_down = copy.deepcopy(cfg)\n",
    "        value = cfg_down[i+1][j]\n",
    "        cfg_down[i+1][j] = \" \"\n",
    "        cfg_down[i][j] = value\n",
    "        cfgs.append(cfg_down)\n",
    "\n",
    "        if j != 0:\n",
    "            cfg_right = copy.deepcopy(cfg)\n",
    "            value = cfg_right[i][j-1]\n",
    "            cfg_right[i][j-1] = \" \"\n",
    "            cfg_right[i][j] = value\n",
    "            cfgs.append(cfg_right)\n",
    "        if j != 2:\n",
    "            cfg_left = copy.deepcopy(cfg)\n",
    "            value = cfg_left[i][j+1]\n",
    "            cfg_left[i][j+1] = \" \"\n",
    "            cfg_left[i][j] = value\n",
    "            cfgs.append(cfg_left)\n",
    "    elif i == 1:\n",
    "        cfg_down = copy.deepcopy(cfg)\n",
    "        value = cfg_down[i+1][j]\n",
    "        cfg_down[i+1][j] = \" \"\n",
    "        cfg_down[i][j] = value\n",
    "        cfgs.append(cfg_down)\n",
    "\n",
    "        cfg_up = copy.deepcopy(cfg)\n",
    "        value = cfg_up[i-1][j]\n",
    "        cfg_up[i-1][j] = \" \"\n",
    "        cfg_up[i][j] = value\n",
    "        cfgs.append(cfg_up)\n",
    "\n",
    "        if j != 0:\n",
    "            cfg_right = copy.deepcopy(cfg)\n",
    "            value = cfg_right[i][j-1]\n",
    "            cfg_right[i][j-1] = \" \"\n",
    "            cfg_right[i][j] = value\n",
    "            cfgs.append(cfg_right)\n",
    "        if j != 2:\n",
    "            cfg_left = copy.deepcopy(cfg)\n",
    "            value = cfg_left[i][j+1]\n",
    "            cfg_left[i][j+1] = \" \"\n",
    "            cfg_left[i][j] = value\n",
    "            cfgs.append(cfg_left)\n",
    "\n",
    "    elif i == 2:\n",
    "        cfg_up = copy.deepcopy(cfg)\n",
    "        value = cfg_up[i-1][j]\n",
    "        cfg_up[i-1][j] = \" \"\n",
    "        cfg_up[i][j] = value\n",
    "        cfgs.append(cfg_up)\n",
    "\n",
    "        if j != 0:\n",
    "            cfg_right = copy.deepcopy(cfg)\n",
    "            value = cfg_right[i][j-1]\n",
    "            cfg_right[i][j-1] = \" \"\n",
    "            cfg_right[i][j] = value\n",
    "            cfgs.append(cfg_right)\n",
    "        if j != 2:\n",
    "            cfg_left = copy.deepcopy(cfg)\n",
    "            value = cfg_left[i][j+1]\n",
    "            cfg_left[i][j+1] = \" \"\n",
    "            cfg_left[i][j] = value\n",
    "            cfgs.append(cfg_left)\n",
    "\n",
    "\n",
    "    return cfgs\n"
   ]
  },
  {
   "cell_type": "code",
   "execution_count": 5,
   "metadata": {},
   "outputs": [],
   "source": [
    "def build_graph(graph, cfg_inicial):\n",
    "\n",
    "    # Adiciona estado inicial ao grafo.\n",
    "    tmp_inicial = np.array(cfg_inicial)\n",
    "    tmp_inicial = np.array2string(tmp_inicial, separator=\", \")\n",
    "\n",
    "    graph.add_node(tmp_inicial)\n",
    "\n",
    "    cfgs_to_explore = [cfg_inicial]\n",
    "\n",
    "    # Para cada movimento na lista de exploração repete os passos anteriores.\n",
    "    while len(cfgs_to_explore) > 0:\n",
    "        current_cfg = cfgs_to_explore.pop()\n",
    "        cfgs = get_possible_cfgs(current_cfg)\n",
    "        current_cfg_tmp = np.array(current_cfg)\n",
    "        current_cfg_tmp = np.array2string(current_cfg_tmp, separator=\", \")\n",
    "\n",
    "        for possible_cfg in cfgs:\n",
    "            possible_cfg_tmp = np.array(possible_cfg)\n",
    "            possible_cfg_tmp = np.array2string(possible_cfg_tmp, separator=\", \")\n",
    "\n",
    "            if graph.edges.get(possible_cfg_tmp, 0) != 0:\n",
    "                continue\n",
    "\n",
    "            graph.add_edge(current_cfg_tmp, possible_cfg_tmp)\n",
    "            cfgs_to_explore.append(possible_cfg)\n"
   ]
  },
  {
   "cell_type": "code",
   "execution_count": 6,
   "metadata": {},
   "outputs": [],
   "source": [
    "g = Graph()\n",
    "build_graph(g, cfg_inicial)"
   ]
  },
  {
   "cell_type": "code",
   "execution_count": 7,
   "metadata": {},
   "outputs": [],
   "source": [
    "build_graph(g, cfg_inicial2)"
   ]
  },
  {
   "cell_type": "code",
   "execution_count": 8,
   "metadata": {},
   "outputs": [
    {
     "name": "stdout",
     "output_type": "stream",
     "text": [
      "362880\n"
     ]
    }
   ],
   "source": [
    "print(g.node_count)"
   ]
  },
  {
   "cell_type": "code",
   "execution_count": 9,
   "metadata": {},
   "outputs": [
    {
     "ename": "TypeError",
     "evalue": "'Graph' object is not iterable",
     "output_type": "error",
     "traceback": [
      "\u001b[1;31m---------------------------------------------------------------------------\u001b[0m",
      "\u001b[1;31mTypeError\u001b[0m                                 Traceback (most recent call last)",
      "\u001b[1;32mc:\\Users\\andre\\git\\INF1721\\T2\\main.ipynb Célula: 9\u001b[0m in \u001b[0;36m<cell line: 1>\u001b[1;34m()\u001b[0m\n\u001b[1;32m----> <a href='vscode-notebook-cell:/c%3A/Users/andre/git/INF1721/T2/main.ipynb#X11sZmlsZQ%3D%3D?line=0'>1</a>\u001b[0m \u001b[39mprint\u001b[39m(connected_components(g))\n",
      "File \u001b[1;32mc:\\Users\\andre\\git\\INF1721\\T2\\bfs.py:17\u001b[0m, in \u001b[0;36mconnected_components\u001b[1;34m(G)\u001b[0m\n\u001b[0;32m     15\u001b[0m components \u001b[39m=\u001b[39m []\n\u001b[0;32m     16\u001b[0m visited \u001b[39m=\u001b[39m \u001b[39mset\u001b[39m()\n\u001b[1;32m---> 17\u001b[0m \u001b[39mfor\u001b[39;00m node \u001b[39min\u001b[39;00m G:\n\u001b[0;32m     18\u001b[0m     \u001b[39mif\u001b[39;00m node \u001b[39mnot\u001b[39;00m \u001b[39min\u001b[39;00m visited:\n\u001b[0;32m     19\u001b[0m         component \u001b[39m=\u001b[39m bfs(G, node)\n",
      "\u001b[1;31mTypeError\u001b[0m: 'Graph' object is not iterable"
     ]
    }
   ],
   "source": [
    "print(connected_components(g))\n"
   ]
  },
  {
   "cell_type": "code",
   "execution_count": null,
   "metadata": {},
   "outputs": [],
   "source": []
  }
 ],
 "metadata": {
  "kernelspec": {
   "display_name": "Python 3 (ipykernel)",
   "language": "python",
   "name": "python3"
  },
  "language_info": {
   "codemirror_mode": {
    "name": "ipython",
    "version": 3
   },
   "file_extension": ".py",
   "mimetype": "text/x-python",
   "name": "python",
   "nbconvert_exporter": "python",
   "pygments_lexer": "ipython3",
   "version": "3.10.4"
  },
  "vscode": {
   "interpreter": {
    "hash": "6847c98a8f86b01c6a19c518cd2f366693b80566b266804d5ca763cbb223f52b"
   }
  }
 },
 "nbformat": 4,
 "nbformat_minor": 2
}
